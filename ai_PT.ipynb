{
 "cells": [
  {
   "cell_type": "markdown",
   "id": "a7433b1c",
   "metadata": {},
   "source": [
    "# USING AI AGENT TO SOLVE PROBLEM"
   ]
  },
  {
   "cell_type": "markdown",
   "id": "0a11ee89",
   "metadata": {},
   "source": [
    "I will use Gemini 2.5 Through OpenAI library <br>\n",
    "Source: https://ai.google.dev/gemini-api/docs/openai?hl=pt-br"
   ]
  },
  {
   "cell_type": "code",
   "execution_count": 1,
   "id": "86d26819",
   "metadata": {},
   "outputs": [],
   "source": [
    "# Os modelos do Gemini podem ser acessados usando as bibliotecas OpenAI (Python e TypeScript / Javascript) com a API REST,\n",
    "# atualizando três linhas de código e usando sua chave da API Gemini. Se você ainda não usa as bibliotecas OpenAI,\n",
    "# recomendamos chamar a API Gemini diretamente."
   ]
  },
  {
   "cell_type": "markdown",
   "id": "0d2a9909",
   "metadata": {},
   "source": [
    "## 1.0 Installation"
   ]
  },
  {
   "cell_type": "code",
   "execution_count": 2,
   "id": "a6d1d755",
   "metadata": {},
   "outputs": [
    {
     "name": "stdout",
     "output_type": "stream",
     "text": [
      "Requirement already satisfied: openai in /home/fernando_cir/.pyenv/versions/3.10.6/lib/python3.10/site-packages (1.82.0)\n",
      "Requirement already satisfied: tqdm>4 in /home/fernando_cir/.pyenv/versions/3.10.6/lib/python3.10/site-packages (from openai) (4.67.1)\n",
      "Requirement already satisfied: typing-extensions<5,>=4.11 in /home/fernando_cir/.pyenv/versions/3.10.6/lib/python3.10/site-packages (from openai) (4.12.2)\n",
      "Requirement already satisfied: pydantic<3,>=1.9.0 in /home/fernando_cir/.pyenv/versions/3.10.6/lib/python3.10/site-packages (from openai) (2.11.5)\n",
      "Requirement already satisfied: sniffio in /home/fernando_cir/.pyenv/versions/3.10.6/lib/python3.10/site-packages (from openai) (1.3.1)\n",
      "Requirement already satisfied: distro<2,>=1.7.0 in /home/fernando_cir/.pyenv/versions/3.10.6/lib/python3.10/site-packages (from openai) (1.9.0)\n",
      "Requirement already satisfied: httpx<1,>=0.23.0 in /home/fernando_cir/.pyenv/versions/3.10.6/lib/python3.10/site-packages (from openai) (0.28.1)\n",
      "Requirement already satisfied: anyio<5,>=3.5.0 in /home/fernando_cir/.pyenv/versions/3.10.6/lib/python3.10/site-packages (from openai) (4.9.0)\n",
      "Requirement already satisfied: jiter<1,>=0.4.0 in /home/fernando_cir/.pyenv/versions/3.10.6/lib/python3.10/site-packages (from openai) (0.10.0)\n",
      "Requirement already satisfied: idna>=2.8 in /home/fernando_cir/.pyenv/versions/3.10.6/lib/python3.10/site-packages (from anyio<5,>=3.5.0->openai) (3.10)\n",
      "Requirement already satisfied: exceptiongroup>=1.0.2 in /home/fernando_cir/.pyenv/versions/3.10.6/lib/python3.10/site-packages (from anyio<5,>=3.5.0->openai) (1.2.2)\n",
      "Requirement already satisfied: certifi in /home/fernando_cir/.pyenv/versions/3.10.6/lib/python3.10/site-packages (from httpx<1,>=0.23.0->openai) (2025.4.26)\n",
      "Requirement already satisfied: httpcore==1.* in /home/fernando_cir/.pyenv/versions/3.10.6/lib/python3.10/site-packages (from httpx<1,>=0.23.0->openai) (1.0.9)\n",
      "Requirement already satisfied: h11>=0.16 in /home/fernando_cir/.pyenv/versions/3.10.6/lib/python3.10/site-packages (from httpcore==1.*->httpx<1,>=0.23.0->openai) (0.16.0)\n",
      "Requirement already satisfied: annotated-types>=0.6.0 in /home/fernando_cir/.pyenv/versions/3.10.6/lib/python3.10/site-packages (from pydantic<3,>=1.9.0->openai) (0.7.0)\n",
      "Requirement already satisfied: typing-inspection>=0.4.0 in /home/fernando_cir/.pyenv/versions/3.10.6/lib/python3.10/site-packages (from pydantic<3,>=1.9.0->openai) (0.4.1)\n",
      "Requirement already satisfied: pydantic-core==2.33.2 in /home/fernando_cir/.pyenv/versions/3.10.6/lib/python3.10/site-packages (from pydantic<3,>=1.9.0->openai) (2.33.2)\n",
      "\n",
      "\u001b[1m[\u001b[0m\u001b[34;49mnotice\u001b[0m\u001b[1;39;49m]\u001b[0m\u001b[39;49m A new release of pip available: \u001b[0m\u001b[31;49m22.2.1\u001b[0m\u001b[39;49m -> \u001b[0m\u001b[32;49m25.1.1\u001b[0m\n",
      "\u001b[1m[\u001b[0m\u001b[34;49mnotice\u001b[0m\u001b[1;39;49m]\u001b[0m\u001b[39;49m To update, run: \u001b[0m\u001b[32;49mpip install --upgrade pip\u001b[0m\n"
     ]
    }
   ],
   "source": [
    "!pip install openai"
   ]
  },
  {
   "cell_type": "code",
   "execution_count": 3,
   "id": "0c299752",
   "metadata": {},
   "outputs": [
    {
     "name": "stdout",
     "output_type": "stream",
     "text": [
      "Requirement already satisfied: python-dotenv in /home/fernando_cir/.pyenv/versions/3.10.6/lib/python3.10/site-packages (1.1.0)\n",
      "\n",
      "\u001b[1m[\u001b[0m\u001b[34;49mnotice\u001b[0m\u001b[1;39;49m]\u001b[0m\u001b[39;49m A new release of pip available: \u001b[0m\u001b[31;49m22.2.1\u001b[0m\u001b[39;49m -> \u001b[0m\u001b[32;49m25.1.1\u001b[0m\n",
      "\u001b[1m[\u001b[0m\u001b[34;49mnotice\u001b[0m\u001b[1;39;49m]\u001b[0m\u001b[39;49m To update, run: \u001b[0m\u001b[32;49mpip install --upgrade pip\u001b[0m\n"
     ]
    }
   ],
   "source": [
    "!pip install python-dotenv"
   ]
  },
  {
   "cell_type": "code",
   "execution_count": 4,
   "id": "d2ddce5d",
   "metadata": {},
   "outputs": [
    {
     "name": "stdout",
     "output_type": "stream",
     "text": [
      "1.82.0\n"
     ]
    }
   ],
   "source": [
    "import openai\n",
    "print(openai.__version__)"
   ]
  },
  {
   "cell_type": "code",
   "execution_count": 5,
   "id": "3131b904",
   "metadata": {},
   "outputs": [],
   "source": [
    "from openai import OpenAI"
   ]
  },
  {
   "cell_type": "code",
   "execution_count": 6,
   "id": "74029a14",
   "metadata": {},
   "outputs": [],
   "source": [
    "from openai import OpenAI\n",
    "from dotenv import load_dotenv\n",
    "import os\n",
    "\n",
    "# Carrega as variáveis do .env\n",
    "load_dotenv()\n",
    "\n",
    "# Lê a variável de ambiente\n",
    "api_key = os.getenv(\"api_key\")"
   ]
  },
  {
   "cell_type": "code",
   "execution_count": 12,
   "id": "b423d637",
   "metadata": {},
   "outputs": [
    {
     "name": "stdout",
     "output_type": "stream",
     "text": [
      "Collecting pandas\n",
      "  Using cached pandas-2.2.3-cp310-cp310-manylinux_2_17_x86_64.manylinux2014_x86_64.whl (13.1 MB)\n",
      "Collecting tzdata>=2022.7\n",
      "  Downloading tzdata-2025.2-py2.py3-none-any.whl (347 kB)\n",
      "\u001b[2K     \u001b[90m━━━━━━━━━━━━━━━━━━━━━━━━━━━━━━━━━━━━━━━\u001b[0m \u001b[32m347.8/347.8 kB\u001b[0m \u001b[31m4.9 MB/s\u001b[0m eta \u001b[36m0:00:00\u001b[0ma \u001b[36m0:00:01\u001b[0m\n",
      "\u001b[?25hRequirement already satisfied: python-dateutil>=2.8.2 in /home/fernando_cir/.pyenv/versions/3.10.6/lib/python3.10/site-packages (from pandas) (2.9.0.post0)\n",
      "Collecting pytz>=2020.1\n",
      "  Downloading pytz-2025.2-py2.py3-none-any.whl (509 kB)\n",
      "\u001b[2K     \u001b[90m━━━━━━━━━━━━━━━━━━━━━━━━━━━━━━━━━━━━━━\u001b[0m \u001b[32m509.2/509.2 kB\u001b[0m \u001b[31m15.5 MB/s\u001b[0m eta \u001b[36m0:00:00\u001b[0m00:01\u001b[0m\n",
      "\u001b[?25hCollecting numpy>=1.22.4\n",
      "  Downloading numpy-2.2.6-cp310-cp310-manylinux_2_17_x86_64.manylinux2014_x86_64.whl (16.8 MB)\n",
      "\u001b[2K     \u001b[90m━━━━━━━━━━━━━━━━━━━━━━━━━━━━━━━━━━━━━━━━\u001b[0m \u001b[32m16.8/16.8 MB\u001b[0m \u001b[31m30.6 MB/s\u001b[0m eta \u001b[36m0:00:00\u001b[0m00:01\u001b[0m00:01\u001b[0m\n",
      "\u001b[?25hRequirement already satisfied: six>=1.5 in /home/fernando_cir/.pyenv/versions/3.10.6/lib/python3.10/site-packages (from python-dateutil>=2.8.2->pandas) (1.16.0)\n",
      "Installing collected packages: pytz, tzdata, numpy, pandas\n",
      "Successfully installed numpy-2.2.6 pandas-2.2.3 pytz-2025.2 tzdata-2025.2\n",
      "\n",
      "\u001b[1m[\u001b[0m\u001b[34;49mnotice\u001b[0m\u001b[1;39;49m]\u001b[0m\u001b[39;49m A new release of pip available: \u001b[0m\u001b[31;49m22.2.1\u001b[0m\u001b[39;49m -> \u001b[0m\u001b[32;49m25.1.1\u001b[0m\n",
      "\u001b[1m[\u001b[0m\u001b[34;49mnotice\u001b[0m\u001b[1;39;49m]\u001b[0m\u001b[39;49m To update, run: \u001b[0m\u001b[32;49mpip install --upgrade pip\u001b[0m\n"
     ]
    }
   ],
   "source": [
    "#import pandas as pd\n",
    "!pip install pandas\n"
   ]
  },
  {
   "cell_type": "markdown",
   "id": "ce61480a",
   "metadata": {},
   "source": [
    "## 2.0 Obtaining information from 1 creditcard bill to understand if it can be done"
   ]
  },
  {
   "cell_type": "code",
   "execution_count": 14,
   "id": "6cb96413",
   "metadata": {},
   "outputs": [
    {
     "data": {
      "text/html": [
       "<div>\n",
       "<style scoped>\n",
       "    .dataframe tbody tr th:only-of-type {\n",
       "        vertical-align: middle;\n",
       "    }\n",
       "\n",
       "    .dataframe tbody tr th {\n",
       "        vertical-align: top;\n",
       "    }\n",
       "\n",
       "    .dataframe thead th {\n",
       "        text-align: right;\n",
       "    }\n",
       "</style>\n",
       "<table border=\"1\" class=\"dataframe\">\n",
       "  <thead>\n",
       "    <tr style=\"text-align: right;\">\n",
       "      <th></th>\n",
       "      <th>Data</th>\n",
       "      <th>Estabelecimento</th>\n",
       "      <th>Portador</th>\n",
       "      <th>Valor</th>\n",
       "      <th>Parcela</th>\n",
       "    </tr>\n",
       "  </thead>\n",
       "  <tbody>\n",
       "    <tr>\n",
       "      <th>0</th>\n",
       "      <td>01/05/2025</td>\n",
       "      <td>MAE JOANA</td>\n",
       "      <td>FERNANDO CIRONE</td>\n",
       "      <td>R$ 64,35</td>\n",
       "      <td>-</td>\n",
       "    </tr>\n",
       "  </tbody>\n",
       "</table>\n",
       "</div>"
      ],
      "text/plain": [
       "         Data Estabelecimento         Portador     Valor Parcela\n",
       "0  01/05/2025       MAE JOANA  FERNANDO CIRONE  R$ 64,35       -"
      ]
     },
     "execution_count": 14,
     "metadata": {},
     "output_type": "execute_result"
    }
   ],
   "source": [
    "import pandas as pd\n",
    "\n",
    "df = pd.read_csv('data/Fatura2025-05-15.csv', sep=';')\n",
    "df.head(1)"
   ]
  },
  {
   "cell_type": "code",
   "execution_count": 15,
   "id": "d39f678b",
   "metadata": {},
   "outputs": [
    {
     "data": {
      "text/plain": [
       "(153, 5)"
      ]
     },
     "execution_count": 15,
     "metadata": {},
     "output_type": "execute_result"
    }
   ],
   "source": [
    "df.shape"
   ]
  },
  {
   "cell_type": "code",
   "execution_count": 23,
   "id": "1bf1f2ac",
   "metadata": {},
   "outputs": [
    {
     "data": {
      "text/plain": [
       "'      Data Estabelecimento        Portador    Valor Parcela\\n01/05/2025       MAE JOANA FERNANDO CIRONE R$ 64,35       -\\n01/05/2025     KATIA ROCHA FERNANDO CIRONE R$ 10,00       -\\n01/05/2025      UBER* TRIP FERNANDO CIRONE R$ 36,98       -\\n01/05/2025   UBER* PENDING FERNANDO CIRONE R$ 35,21       -\\n01/05/2025        METRO RJ FERNANDO CIRONE  R$ 7,90       -\\n01/05/2025  UBER * PENDING FERNANDO CIRONE R$ 15,80       -\\n01/05/2025  UBER * PENDING FERNANDO CIRONE R$ 43,31       -\\n01/05/2025        BAR URCA FERNANDO CIRONE R$ 19,00       -\\n01/05/2025   UBER* PENDING FERNANDO CIRONE R$ 11,62       -\\n01/05/2025        BAR URCA FERNANDO CIRONE R$ 38,00       -'"
      ]
     },
     "execution_count": 23,
     "metadata": {},
     "output_type": "execute_result"
    }
   ],
   "source": [
    "# 2. Converter as primeiras linhas para texto\n",
    "gastos_texto = df.head(10).to_string(index=False)\n",
    "gastos_texto"
   ]
  },
  {
   "cell_type": "code",
   "execution_count": null,
   "id": "16602dcd",
   "metadata": {},
   "outputs": [
    {
     "data": {
      "text/plain": [
       "'      Data           Estabelecimento        Portador        Valor Parcela\\n01/05/2025                 MAE JOANA FERNANDO CIRONE     R$ 64,35       -\\n01/05/2025               KATIA ROCHA FERNANDO CIRONE     R$ 10,00       -\\n01/05/2025                UBER* TRIP FERNANDO CIRONE     R$ 36,98       -\\n01/05/2025             UBER* PENDING FERNANDO CIRONE     R$ 35,21       -\\n01/05/2025                  METRO RJ FERNANDO CIRONE      R$ 7,90       -\\n01/05/2025            UBER * PENDING FERNANDO CIRONE     R$ 15,80       -\\n01/05/2025            UBER * PENDING FERNANDO CIRONE     R$ 43,31       -\\n01/05/2025                  BAR URCA FERNANDO CIRONE     R$ 19,00       -\\n01/05/2025             UBER* PENDING FERNANDO CIRONE     R$ 11,62       -\\n01/05/2025                  BAR URCA FERNANDO CIRONE     R$ 38,00       -\\n02/05/2025                PB*SAMSUNG FERNANDO CIRONE     R$ 29,90       -\\n02/05/2025           CAM ON BOTAFOGO FERNANDO CIRONE    R$ 127,50       -\\n02/05/2025           BR*BR1FOODTOSAV FERNANDO CIRONE     R$ 46,97       -\\n02/05/2025          DROGARIA CRISTAL FERNANDO CIRONE     R$ 30,98       -\\n02/05/2025  UBER *TRIP HELP.UBER.COM FERNANDO CIRONE     R$ 12,20       -\\n03/05/2025             UBER* PENDING FERNANDO CIRONE     R$ 30,76       -\\n03/05/2025    SHOPEE *VITRINEMASTERR FERNANDO CIRONE     R$ 19,99       -\\n03/05/2025          SHOPEE *TICKTACK FERNANDO CIRONE     R$ 26,49       -\\n03/05/2025    SHOPEE *MUNDOMASTERATA FERNANDO CIRONE     R$ 19,99       -\\n03/05/2025    SHOPEE *BORDADOSRODRIG FERNANDO CIRONE     R$ 44,90       -\\n03/05/2025          DROGARIA CRISTAL FERNANDO CIRONE      R$ 6,50       -\\n03/05/2025            UBER * PENDING FERNANDO CIRONE      R$ 6,91       -\\n04/05/2025            UBER * PENDING FERNANDO CIRONE     R$ 18,25       -\\n04/05/2025          DROGARIA CRISTAL FERNANDO CIRONE      R$ 4,50       -\\n04/05/2025                  METRO RJ FERNANDO CIRONE     R$ 15,80       -\\n05/05/2025             UBER* PENDING FERNANDO CIRONE      R$ 9,12       -\\n05/05/2025              PREZUNIC 743 FERNANDO CIRONE     R$ 45,86       -\\n06/02/2025    FOCUS CLINICA E CIRURG FERNANDO CIRONE    R$ 100,00  3 de 5\\n06/05/2025    SHOPEE *GUEDESIMPORTST FERNANDO CIRONE     R$ 38,90       -\\n06/05/2025                  METRO RJ FERNANDO CIRONE      R$ 7,90       -\\n06/05/2025             UBER* PENDING FERNANDO CIRONE     R$ 18,34       -\\n06/05/2025    TRJMARKET4U MERCADO AU FERNANDO CIRONE      R$ 2,98       -\\n08/04/2025          DL*GOOGLE BUMBLE FERNANDO CIRONE     R$ 39,90       -\\n08/04/2025             UBER* PENDING FERNANDO CIRONE     R$ 10,22       -\\n08/04/2025                  METRO RJ FERNANDO CIRONE     R$ 15,00       -\\n09/04/2025            UBER * PENDING FERNANDO CIRONE     R$ 10,42       -\\n09/04/2025            UBER * PENDING FERNANDO CIRONE     R$ 11,82       -\\n09/04/2025                  METRO RJ FERNANDO CIRONE      R$ 7,50       -\\n10/04/2025              SUA ACADEMIA FERNANDO CIRONE    R$ 129,90       -\\n10/04/2025             UBER* PENDING FERNANDO CIRONE     R$ 11,95       -\\n10/04/2025                  METRO RJ FERNANDO CIRONE     R$ 15,00       -\\n10/04/2025               CASAS PEDRO FERNANDO CIRONE     R$ 19,48       -\\n11/04/2025     99 TECNOLOGIA*99* 99* FERNANDO CIRONE      R$ 7,30       -\\n11/04/2025                  METRO RJ FERNANDO CIRONE      R$ 7,50       -\\n11/04/2025              PREZUNIC 742 FERNANDO CIRONE     R$ 29,98       -\\n11/04/2025               NETFLIX.COM FERNANDO CIRONE     R$ 20,90       -\\n11/04/2025             UBER* PENDING FERNANDO CIRONE     R$ 15,71       -\\n11/04/2025         SUPERMERCADO GUAN FERNANDO CIRONE    R$ 440,22       -\\n11/04/2025 WINEBR*CLUBEWINE 52058951 FERNANDO CIRONE     R$ 39,37       -\\n12/04/2025             UBER* PENDING FERNANDO CIRONE     R$ 22,94       -\\n12/04/2025             LIMALOGISTICA FERNANDO CIRONE     R$ 28,00       -\\n12/04/2025               MPLGESTAODE FERNANDO CIRONE     R$ 11,00       -\\n12/04/2025             BAR BOA VISTA FERNANDO CIRONE     R$ 43,30       -\\n12/04/2025            UBER * PENDING FERNANDO CIRONE     R$ 33,36       -\\n12/04/2025             UBER* PENDING FERNANDO CIRONE     R$ 28,28       -\\n12/04/2025             UBER* PENDING FERNANDO CIRONE      R$ 9,57       -\\n12/04/2025                   CACIMBA FERNANDO CIRONE     R$ 13,93       -\\n12/04/2025            UBER * PENDING FERNANDO CIRONE     R$ 26,60       -\\n12/04/2025             LIMALOGISTICA FERNANDO CIRONE     R$ 22,00       -\\n12/04/2025     EDITORA O GLOBO VALOR FERNANDO CIRONE     R$ 34,90       -\\n12/04/2025               MJCOCOLAGOA FERNANDO CIRONE     R$ 22,00       -\\n13/04/2025     99 TECNOLOGIA*99* 99* FERNANDO CIRONE     R$ 22,50       -\\n13/04/2025            APPLE.COM/BILL FERNANDO CIRONE     R$ 21,90       -\\n13/04/2025          DROGARIA CRISTAL FERNANDO CIRONE     R$ 13,00       -\\n13/04/2025             UBER* PENDING FERNANDO CIRONE     R$ 14,69       -\\n13/04/2025        HORTIFRU DUBOM 675 FERNANDO CIRONE      R$ 9,99       -\\n13/04/2025                TOP MARKET FERNANDO CIRONE     R$ 86,57       -\\n14/01/2025               OTICAS ZOOM FERNANDO CIRONE    R$ 117,00  4 de 5\\n14/04/2025             AMAZONPRIMEBR FERNANDO CIRONE     R$ 19,90       -\\n14/04/2025                  METRO RJ FERNANDO CIRONE     R$ 15,80       -\\n14/04/2025            PRODUTOS GLOBO FERNANDO CIRONE     R$ 54,90       -\\n15/01/2025           WILKERJULIANIDE FERNANDO CIRONE  R$ 1.333,33 4 de 12\\n15/04/2025                  METRO RJ FERNANDO CIRONE     R$ 15,80       -\\n15/04/2025       Pagamento de fatura FERNANDO CIRONE R$ -6.628,41    de 1\\n16/04/2025                  METRO RJ FERNANDO CIRONE     R$ 15,80       -\\n16/04/2025            LOTUS LOTERIAS FERNANDO CIRONE      R$ 5,15       -\\n16/04/2025           TIM*21984316148 FERNANDO CIRONE     R$ 70,99       -\\n17/03/2025                   CLINICA FERNANDO CIRONE    R$ 175,00  2 de 2\\n17/04/2025                 MAE JOANA FERNANDO CIRONE     R$ 62,70       -\\n17/04/2025                  INOVARIO FERNANDO CIRONE      R$ 8,99       -\\n17/04/2025                  RAIA1674 FERNANDO CIRONE     R$ 27,08       -\\n17/04/2025             UBER* PENDING FERNANDO CIRONE     R$ 30,49       -\\n17/04/2025          BEMJA - BOTAFOGO FERNANDO CIRONE      R$ 3,00       -\\n17/04/2025                  METRO RJ FERNANDO CIRONE      R$ 7,90       -\\n17/04/2025              SARREUFATACO FERNANDO CIRONE     R$ 18,00       -\\n17/04/2025                UBER* TRIP FERNANDO CIRONE     R$ 33,62       -\\n17/04/2025             UBER* PENDING FERNANDO CIRONE     R$ 19,22       -\\n18/04/2025    ZIG*SUNSET RIO INSTRUM FERNANDO CIRONE     R$ 24,00       -\\n18/04/2025    ZIG*SUNSET RIO INSTRUM FERNANDO CIRONE     R$ 24,00       -\\n18/04/2025         PANETERIA PADELLI FERNANDO CIRONE     R$ 14,70       -\\n18/04/2025             UBER* PENDING FERNANDO CIRONE     R$ 36,02       -\\n18/04/2025                UBER* TRIP FERNANDO CIRONE     R$ 15,90       -\\n18/04/2025          HOCUSPOCUSUPTOWN FERNANDO CIRONE     R$ 13,20       -\\n18/04/2025          HOCUSPOCUSUPTOWN FERNANDO CIRONE     R$ 19,80       -\\n18/04/2025         LUCINEASILVADACON FERNANDO CIRONE     R$ 11,00       -\\n18/04/2025             MP*JUNTALOCAL FERNANDO CIRONE     R$ 10,00       -\\n19/04/2025     SERGIO MIGUEL DE LIMA FERNANDO CIRONE      R$ 6,00       -\\n19/04/2025           LETICIADOCAMARA FERNANDO CIRONE     R$ 14,20       -\\n19/04/2025  UBER *TRIP HELP.UBER.COM FERNANDO CIRONE      R$ 8,11       -\\n19/04/2025         ALESSANDROFELIXDA FERNANDO CIRONE     R$ 12,00       -\\n19/04/2025    ZIG*DESTILARIA MARAVIL FERNANDO CIRONE     R$ 24,20       -\\n19/04/2025 CLARIEL PAPELARIA E COMER FERNANDO CIRONE      R$ 8,50       -\\n19/04/2025         ALESSANDROFELIXDA FERNANDO CIRONE     R$ 12,00       -\\n19/04/2025    ADAO E FERREIRA BAR LT FERNANDO CIRONE     R$ 33,66       -\\n19/04/2025             UBER* PENDING FERNANDO CIRONE     R$ 14,24       -\\n19/04/2025   59140617 JULIO VIEIRA R FERNANDO CIRONE      R$ 5,00       -\\n19/04/2025             UBER* PENDING FERNANDO CIRONE     R$ 35,39       -\\n19/04/2025                  MP*JOSUE FERNANDO CIRONE     R$ 15,00       -\\n19/04/2025      GOOGLE BUMBLE DATING FERNANDO CIRONE     R$ 79,90       -\\n19/04/2025             UBER* PENDING FERNANDO CIRONE      R$ 9,02       -\\n19/04/2025           VICENTEGONZALEZ FERNANDO CIRONE     R$ 50,00       -\\n20/04/2025             UBER* PENDING FERNANDO CIRONE      R$ 5,71       -\\n20/04/2025       COOL PRODUCOES LTDA FERNANDO CIRONE     R$ 30,00       -\\n20/04/2025       COOL PRODUCOES LTDA FERNANDO CIRONE     R$ 50,00       -\\n20/04/2025       COOL PRODUCOES LTDA FERNANDO CIRONE     R$ 15,00       -\\n20/04/2025                       DEX FERNANDO CIRONE     R$ 35,20       -\\n20/04/2025                GOOGLE ONE FERNANDO CIRONE      R$ 9,99       -\\n21/04/2025          PADARIA SERJAO E FERNANDO CIRONE      R$ 4,90       -\\n21/04/2025             UBER* PENDING FERNANDO CIRONE     R$ 19,90       -\\n21/04/2025    CASA DO ALEMAO INDUSTR FERNANDO CIRONE     R$ 12,20       -\\n22/03/2025             7018  RIO SUL FERNANDO CIRONE    R$ 279,30  2 de 5\\n22/04/2025           BR*BR1FOODTOSAV FERNANDO CIRONE     R$ 52,97       -\\n23/04/2025         HORTIFRUTI URUGUA FERNANDO CIRONE     R$ 13,99       -\\n23/04/2025        HORTIFRU DUBOM 675 FERNANDO CIRONE     R$ 10,51       -\\n23/04/2025         AMAZON DIGITAL BR FERNANDO CIRONE     R$ 38,60       -\\n24/04/2025      DM          *KIWICOM FERNANDO CIRONE    R$ 790,00       -\\n25/04/2025                  METRO RJ FERNANDO CIRONE     R$ 15,80       -\\n25/04/2025    TRJMARKET4U MERCADO AU FERNANDO CIRONE      R$ 4,47       -\\n25/04/2025                 MAE JOANA FERNANDO CIRONE     R$ 61,60       -\\n26/04/2025       MIRANTE DO PEDRAO 2 FERNANDO CIRONE     R$ 30,00       -\\n26/04/2025          LARGO DAS FLORES FERNANDO CIRONE      R$ 7,00       -\\n26/04/2025      HORTIFRUTI RIO SAFRA FERNANDO CIRONE     R$ 30,19       -\\n26/04/2025                  METRO RJ FERNANDO CIRONE      R$ 7,90       -\\n26/04/2025            UBER * PENDING FERNANDO CIRONE     R$ 31,37       -\\n26/04/2025       MIRANTE DO PEDRAO 2 FERNANDO CIRONE     R$ 30,00       -\\n26/04/2025      MIRANTE DO PEDRAO RJ FERNANDO CIRONE     R$ 30,00       -\\n27/04/2025       MIRANTE DO PEDRAO 2 FERNANDO CIRONE     R$ 15,00       -\\n27/04/2025             UBER* PENDING FERNANDO CIRONE     R$ 28,80       -\\n27/04/2025                  METRO RJ FERNANDO CIRONE      R$ 7,90       -\\n27/04/2025          DROGARIA CRISTAL FERNANDO CIRONE     R$ 19,76       -\\n27/04/2025       MIRANTE DO PEDRAO 2 FERNANDO CIRONE     R$ 15,00       -\\n28/04/2025      ASA*SEGCONTACARTAOXP FERNANDO CIRONE     R$ 16,90       -\\n28/04/2025           BR*BR1FOODTOSAV FERNANDO CIRONE     R$ 31,98       -\\n29/04/2025             UBER* PENDING FERNANDO CIRONE     R$ 26,37       -\\n29/04/2025    TRJMARKET4U MERCADO AU FERNANDO CIRONE      R$ 1,49       -\\n29/04/2025                 DROGASMIL FERNANDO CIRONE     R$ 32,49       -\\n29/04/2025                  METRO RJ FERNANDO CIRONE     R$ 15,80       -\\n29/04/2025            LOTUS LOTERIAS FERNANDO CIRONE      R$ 5,15       -\\n29/04/2025         DROGARIA VENANCIO FERNANDO CIRONE     R$ 41,49       -\\n30/04/2025                  METRO RJ FERNANDO CIRONE     R$ 15,80       -\\n30/04/2025               CASAS PEDRO FERNANDO CIRONE     R$ 19,88       -\\n30/04/2025    TRJMARKET4U MERCADO AU FERNANDO CIRONE      R$ 2,98       -\\n30/04/2025       C KADAMPA COMPAIXAO FERNANDO CIRONE     R$ 30,00       -'"
      ]
     },
     "execution_count": 20,
     "metadata": {},
     "output_type": "execute_result"
    }
   ],
   "source": [
    "# gastos_texto = df.to_string(index=False)\n",
    "# gastos_texto"
   ]
  },
  {
   "cell_type": "code",
   "execution_count": null,
   "id": "3da5524c",
   "metadata": {},
   "outputs": [],
   "source": [
    "# 3. Construir o prompt para classificar os gastos\n",
    "prompt = f\"\"\"\n",
    "Sou um usuário com os seguintes gastos extraídos da minha fatura:\n",
    "\n",
    "{gastos_texto}\n",
    "\n",
    "Você pode classificar cada gasto em categorias como Alimentação, Transporte, Lazer, Saúde, etc.?\n",
    "Responda em formato de tabela com uma nova coluna chamada 'Categoria'. Faça observação da sua conclusão.\n",
    "Considere que:\n",
    "1) Fernando Cirone sou eu, o usuário;\n",
    "\"\"\""
   ]
  },
  {
   "cell_type": "code",
   "execution_count": 37,
   "id": "793b1b5d",
   "metadata": {},
   "outputs": [
    {
     "name": "stdout",
     "output_type": "stream",
     "text": [
      "Com certeza! Analisando seus gastos, aqui está a classificação em categorias:\n",
      "\n",
      "| Data       | Estabelecimento                | Portador          | Valor  | Parcela | Categoria   |\n",
      "|------------|--------------------------------|-------------------|--------|---------|-------------|\n",
      "| 01/05/2025 | MAE JOANA FERNANDO CIRONE      | FERNANDO CIRONE | R$ 64,35 | -       | Saúde       |\n",
      "| 01/05/2025 | KATIA ROCHA FERNANDO CIRONE    | FERNANDO CIRONE | R$ 10,00 | -       | Saúde       |\n",
      "| 01/05/2025 | UBER* TRIP FERNANDO CIRONE     | FERNANDO CIRONE | R$ 36,98 | -       | Transporte  |\n",
      "| 01/05/2025 | UBER* PENDING FERNANDO CIRONE  | FERNANDO CIRONE | R$ 35,21 | -       | Transporte  |\n",
      "| 01/05/2025 | METRO RJ FERNANDO CIRONE       | FERNANDO CIRONE | R$ 7,90  | -       | Transporte  |\n",
      "| 01/05/2025 | UBER * PENDING FERNANDO CIRONE | FERNANDO CIRONE | R$ 15,80 | -       | Transporte  |\n",
      "| 01/05/2025 | UBER * PENDING FERNANDO CIRONE | FERNANDO CIRONE | R$ 43,31 | -       | Transporte  |\n",
      "| 01/05/2025 | BAR URCA FERNANDO CIRONE       | FERNANDO CIRONE | R$ 19,00 | -       | Lazer       |\n",
      "| 01/05/2025 | UBER* PENDING FERNANDO CIRONE  | FERNANDO CIRONE | R$ 11,62 | -       | Transporte  |\n",
      "| 01/05/2025 | BAR URCA FERNANDO CIRONE       | FERNANDO CIRONE | R$ 38,00 | -       | Lazer       |\n",
      "\n",
      "**Observações:**\n",
      "\n",
      "*   A maioria dos seus gastos está concentrada na categoria **Transporte**, principalmente com Uber.\n",
      "*   Você também tem gastos consideráveis em **Saúde** e **Lazer**.\n",
      "*   As despesas \"PENDING\" do Uber se referem a corridas ainda não finalizadas, mas que já estão sendo cobradas.\n",
      "*   É importante acompanhar esses gastos para ter uma visão clara de onde seu dinheiro está sendo gasto e identificar oportunidades de economia.\n"
     ]
    }
   ],
   "source": [
    "client = OpenAI(\n",
    "    api_key=api_key,\n",
    "    base_url=\"https://generativelanguage.googleapis.com/v1beta/openai/\"\n",
    ")\n",
    "\n",
    "response = client.chat.completions.create(\n",
    "    model=\"gemini-2.0-flash\",\n",
    "    messages=[\n",
    "        {\"role\": \"system\", \"content\": \"Você é um assistente financeiro especializado em classificar despesas pessoais.\"},\n",
    "        {\n",
    "            \"role\": \"user\",\n",
    "            \"content\": prompt\n",
    "        }\n",
    "    ]\n",
    ")\n",
    "\n",
    "# print(response.choices[0].message)\n",
    "print(response.choices[0].message.content)"
   ]
  },
  {
   "cell_type": "code",
   "execution_count": null,
   "id": "1e8fa16d",
   "metadata": {},
   "outputs": [],
   "source": []
  },
  {
   "cell_type": "code",
   "execution_count": null,
   "id": "1bdf66e7",
   "metadata": {},
   "outputs": [],
   "source": []
  },
  {
   "cell_type": "code",
   "execution_count": null,
   "id": "0dd222c7",
   "metadata": {},
   "outputs": [],
   "source": []
  }
 ],
 "metadata": {
  "kernelspec": {
   "display_name": "3.10.6",
   "language": "python",
   "name": "python3"
  },
  "language_info": {
   "codemirror_mode": {
    "name": "ipython",
    "version": 3
   },
   "file_extension": ".py",
   "mimetype": "text/x-python",
   "name": "python",
   "nbconvert_exporter": "python",
   "pygments_lexer": "ipython3",
   "version": "3.10.6"
  }
 },
 "nbformat": 4,
 "nbformat_minor": 5
}
