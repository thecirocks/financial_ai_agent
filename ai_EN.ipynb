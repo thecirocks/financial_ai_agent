{
 "cells": [
  {
   "cell_type": "markdown",
   "id": "a7433b1c",
   "metadata": {},
   "source": [
    "# LEVERAGING AN AI AGENT FOR AUTOMATED INVOICE FINANCIAL CLASSIFICATION"
   ]
  },
  {
   "cell_type": "markdown",
   "id": "0a11ee89",
   "metadata": {},
   "source": [
    "I will use Gemini 2.0 Through OpenAI library <br>\n",
    "Source: https://ai.google.dev/gemini-api/docs/openai?hl=pt-br"
   ]
  },
  {
   "cell_type": "code",
   "execution_count": 112,
   "id": "86d26819",
   "metadata": {},
   "outputs": [],
   "source": [
    "# Os modelos do Gemini podem ser acessados usando as bibliotecas OpenAI (Python e TypeScript / Javascript) com a API REST,\n",
    "# atualizando três linhas de código e usando sua chave da API Gemini. Se você ainda não usa as bibliotecas OpenAI,\n",
    "# recomendamos chamar a API Gemini diretamente."
   ]
  },
  {
   "cell_type": "markdown",
   "id": "0d2a9909",
   "metadata": {},
   "source": [
    "## 1. Importing & API Key"
   ]
  },
  {
   "cell_type": "code",
   "execution_count": 113,
   "id": "7d142e9a",
   "metadata": {},
   "outputs": [],
   "source": [
    "from openai import OpenAI  # usado para o client estilo OpenAI(client)\n",
    "from dotenv import load_dotenv\n",
    "import os\n",
    "import time\n",
    "import pandas as pd"
   ]
  },
  {
   "cell_type": "code",
   "execution_count": 114,
   "id": "47cf6ea5",
   "metadata": {},
   "outputs": [],
   "source": [
    "load_dotenv()\n",
    "api_key = os.getenv(\"api_key\")"
   ]
  },
  {
   "cell_type": "code",
   "execution_count": 115,
   "id": "a6d1d755",
   "metadata": {},
   "outputs": [],
   "source": [
    "# !pip install openai"
   ]
  },
  {
   "cell_type": "code",
   "execution_count": 116,
   "id": "0c299752",
   "metadata": {},
   "outputs": [],
   "source": [
    "# !pip install python-dotenv"
   ]
  },
  {
   "cell_type": "code",
   "execution_count": 117,
   "id": "d2ddce5d",
   "metadata": {},
   "outputs": [],
   "source": [
    "# import openai\n",
    "# import time\n",
    "# from io import StringIO\n",
    "# print(openai.__version__)"
   ]
  },
  {
   "cell_type": "code",
   "execution_count": 118,
   "id": "3131b904",
   "metadata": {},
   "outputs": [],
   "source": [
    "# from openai import OpenAI\n",
    "# import openai"
   ]
  },
  {
   "cell_type": "code",
   "execution_count": 119,
   "id": "74029a14",
   "metadata": {},
   "outputs": [],
   "source": [
    "# from openai import OpenAI\n",
    "# from dotenv import load_dotenv\n",
    "# import os\n",
    "\n",
    "# # Carrega as variáveis do .env\n",
    "# load_dotenv()\n",
    "\n",
    "# # Lê a variável de ambiente\n",
    "# api_key = os.getenv(\"api_key\")"
   ]
  },
  {
   "cell_type": "code",
   "execution_count": 120,
   "id": "b423d637",
   "metadata": {},
   "outputs": [],
   "source": [
    "#import pandas as pd\n",
    "# !pip install pandas"
   ]
  },
  {
   "cell_type": "markdown",
   "id": "ce61480a",
   "metadata": {},
   "source": [
    "## 2. Obtaining information from the invoice and preprocessing the dataset"
   ]
  },
  {
   "cell_type": "code",
   "execution_count": 121,
   "id": "6cb96413",
   "metadata": {},
   "outputs": [
    {
     "data": {
      "text/html": [
       "<div>\n",
       "<style scoped>\n",
       "    .dataframe tbody tr th:only-of-type {\n",
       "        vertical-align: middle;\n",
       "    }\n",
       "\n",
       "    .dataframe tbody tr th {\n",
       "        vertical-align: top;\n",
       "    }\n",
       "\n",
       "    .dataframe thead th {\n",
       "        text-align: right;\n",
       "    }\n",
       "</style>\n",
       "<table border=\"1\" class=\"dataframe\">\n",
       "  <thead>\n",
       "    <tr style=\"text-align: right;\">\n",
       "      <th></th>\n",
       "      <th>Data</th>\n",
       "      <th>Estabelecimento</th>\n",
       "      <th>Portador</th>\n",
       "      <th>Valor</th>\n",
       "    </tr>\n",
       "  </thead>\n",
       "  <tbody>\n",
       "    <tr>\n",
       "      <th>0</th>\n",
       "      <td>01/05/2025</td>\n",
       "      <td>MAE JOANA</td>\n",
       "      <td>FERNANDO CIRONE</td>\n",
       "      <td>R$ 64,35</td>\n",
       "    </tr>\n",
       "  </tbody>\n",
       "</table>\n",
       "</div>"
      ],
      "text/plain": [
       "         Data Estabelecimento         Portador     Valor\n",
       "0  01/05/2025       MAE JOANA  FERNANDO CIRONE  R$ 64,35"
      ]
     },
     "execution_count": 121,
     "metadata": {},
     "output_type": "execute_result"
    }
   ],
   "source": [
    "df = pd.read_csv('data/Fatura2025-05-15.csv', sep=';')\n",
    "df.head(1)"
   ]
  },
  {
   "cell_type": "code",
   "execution_count": 122,
   "id": "0e9bf445",
   "metadata": {},
   "outputs": [],
   "source": [
    "df['Valor'] = (\n",
    "    df['Valor']\n",
    "    .str.replace('R$', '', regex=False)   # Remove \"R$\"\n",
    "    .str.replace(',', '.', regex=False)   # Troca vírgula decimal por ponto\n",
    "    .str.strip()                          # Remove espaços em branco\n",
    "    .astype(float)                        # Converte para float\n",
    ")"
   ]
  },
  {
   "cell_type": "code",
   "execution_count": 123,
   "id": "fc0cc736",
   "metadata": {},
   "outputs": [
    {
     "name": "stdout",
     "output_type": "stream",
     "text": [
      "         Data Estabelecimento         Portador  Valor\n",
      "0  01/05/2025       MAE JOANA  FERNANDO CIRONE  64.35\n",
      "1  01/05/2025     KATIA ROCHA  FERNANDO CIRONE  10.00\n",
      "2  01/05/2025      UBER* TRIP  FERNANDO CIRONE  36.98\n",
      "3  01/05/2025   UBER* PENDING  FERNANDO CIRONE  35.21\n",
      "4  01/05/2025        METRO RJ  FERNANDO CIRONE   7.90\n",
      "Data                object\n",
      "Estabelecimento     object\n",
      "Portador            object\n",
      "Valor              float64\n",
      "dtype: object\n"
     ]
    }
   ],
   "source": [
    "print(df.head())\n",
    "print(df.dtypes)"
   ]
  },
  {
   "cell_type": "code",
   "execution_count": 124,
   "id": "1ff2e4dd",
   "metadata": {},
   "outputs": [
    {
     "data": {
      "text/plain": [
       "(59, 4)"
      ]
     },
     "execution_count": 124,
     "metadata": {},
     "output_type": "execute_result"
    }
   ],
   "source": [
    "df.shape"
   ]
  },
  {
   "cell_type": "code",
   "execution_count": 125,
   "id": "1bf1f2ac",
   "metadata": {},
   "outputs": [],
   "source": [
    "# # 2. Converter as primeiras linhas para texto\n",
    "# gastos_texto = df.head(10).to_string(index=False)\n",
    "# gastos_texto"
   ]
  },
  {
   "cell_type": "code",
   "execution_count": 126,
   "id": "16602dcd",
   "metadata": {},
   "outputs": [],
   "source": [
    "# gastos_texto = df.to_string(index=False)\n",
    "# gastos_texto"
   ]
  },
  {
   "cell_type": "code",
   "execution_count": 127,
   "id": "3da5524c",
   "metadata": {},
   "outputs": [],
   "source": [
    "# # 3. Construir o prompt para classificar os gastos\n",
    "# prompt = f\"\"\"\n",
    "# I am a user with the following expenses extracted from my invoice:\n",
    "\n",
    "# {gastos_texto}\n",
    "\n",
    "# Can you classify each expense into categories such as Food, Transport, Leisure, Health, etc.?\n",
    "# Please respond in table format with an additional column called \"Category\". Add a brief comment with your conclusion.\n",
    "# Consider the following: Fernando Cirone is me, the user;\n",
    "\n",
    "# \"\"\""
   ]
  },
  {
   "cell_type": "markdown",
   "id": "c4843b1d",
   "metadata": {},
   "source": [
    "## 3. Getting the Open AI library for latter using the Gemini model"
   ]
  },
  {
   "cell_type": "code",
   "execution_count": 128,
   "id": "5d16e96e",
   "metadata": {},
   "outputs": [],
   "source": [
    "client = OpenAI(\n",
    "    api_key=api_key,\n",
    "    base_url=\"https://generativelanguage.googleapis.com/v1beta/openai/\"\n",
    ")"
   ]
  },
  {
   "cell_type": "code",
   "execution_count": 129,
   "id": "aa099659",
   "metadata": {},
   "outputs": [],
   "source": [
    "# # === 3. Loop em blocos de 20 linhas ===\n",
    "# bloco_size = 20\n",
    "\n",
    "# for i in range(0, len(df), bloco_size):\n",
    "#     bloco_df = df.iloc[i:i+bloco_size]\n",
    "#     bloco_txt = bloco_df.to_string(index=False)\n",
    "\n",
    "#     # Prompt personalizado com instruções\n",
    "#     prompt = f\"\"\"\n",
    "# I am a user with the following expenses extracted from my invoice:\n",
    "\n",
    "# {bloco_txt}\n",
    "\n",
    "# Can you classify each expense into categories such as Food, Transport, Leisure, Health, etc.?\n",
    "# Please respond in table format with an additional column called 'Category'. Add a brief comment with your conclusion.\n",
    "\n",
    "# Consider the following:\n",
    "# 1) Fernando Cirone is me, the user;\n",
    "# 2) Answer in English, even though the CSV content is written in Portuguese.\n",
    "# \"\"\"\n",
    "\n",
    "#     # Enviar requisição à API Gemini\n",
    "#     response = client.chat.completions.create(\n",
    "#         model=\"gemini-2.0-flash\",\n",
    "#         messages=[\n",
    "#             {\"role\": \"system\", \"content\": \"You are a financial assistant specialized in classifying personal expenses.\"},\n",
    "#             {\"role\": \"user\", \"content\": prompt}\n",
    "#         ]\n",
    "#     )\n",
    "\n",
    "#     # Mostrar resultado do bloco\n",
    "#     print(f\"\\n📄 Block {i // bloco_size + 1} (lines {i + 1} to {min(i + bloco_size, len(df))}):\\n\")\n",
    "#     print(response.choices[0].message.content)\n",
    "\n",
    "#     # Espera de 1 segundo para não sobrecarregar a API\n",
    "#     time.sleep(20)"
   ]
  },
  {
   "cell_type": "markdown",
   "id": "88cc94e3",
   "metadata": {},
   "source": [
    "## 4. Creating a function to handle API responses, since I'm using the free model (which allows only a limited number of requests)"
   ]
  },
  {
   "cell_type": "code",
   "execution_count": 130,
   "id": "5d943d01",
   "metadata": {},
   "outputs": [],
   "source": [
    "def tentar_enviar(prompt, tentativas=3, espera=20):\n",
    "    #!parametros!\n",
    "    # tentativas = a quantidade de tentativas ate dar erro\n",
    "    # a espera ate dar erro novamente\n",
    "\n",
    "    for tentativa in range(tentativas): #aqui ele tenta 3x\n",
    "        try:\n",
    "            response = client.chat.completions.create(\n",
    "                model=\"gemini-2.0-flash\",\n",
    "                messages=[\n",
    "                    {\"role\": \"system\", \"content\": \"You are a financial assistant specialized in classifying personal expenses.\"},\n",
    "                    {\"role\": \"user\", \"content\": prompt}\n",
    "                ]\n",
    "            )\n",
    "            return response.choices[0].message.content\n",
    "        except Exception as e:\n",
    "            print(f\" Error on try {tentativa + 1}: {e}\")\n",
    "            time.sleep(espera) #aqui ele da o sleep na quantidade de segundos\n",
    "    return \"Error After several times. Chunk jumped\""
   ]
  },
  {
   "cell_type": "markdown",
   "id": "a12657ee",
   "metadata": {},
   "source": [
    "## 5. Creating a loop to use chunk sizes of the invoice "
   ]
  },
  {
   "cell_type": "code",
   "execution_count": 131,
   "id": "8c2dc76f",
   "metadata": {},
   "outputs": [
    {
     "data": {
      "text/plain": [
       "59"
      ]
     },
     "execution_count": 131,
     "metadata": {},
     "output_type": "execute_result"
    }
   ],
   "source": [
    "len(df)"
   ]
  },
  {
   "cell_type": "code",
   "execution_count": 132,
   "id": "64f6d25d",
   "metadata": {},
   "outputs": [
    {
     "name": "stdout",
     "output_type": "stream",
     "text": [
      "\n",
      " Processing block 1 (lines 1 to 20)...\n",
      "Sucess:\n",
      "\n",
      "Data;Estabelecimento;Portador;Valor;Categoria\n",
      "01/05/2025;MAE JOANA;FERNANDO CIRONE;64.35;Food\n",
      "01/05/2025;KATIA ROCHA;FERNANDO CIRONE;10.00;Personal Care\n",
      "01/05/2025;UBER* TRIP;FERNANDO CIRONE;36.98;Transport\n",
      "01/05/2025;UBER* PENDING;FERNANDO CIRONE;35.21;Transport\n",
      "01/05/2025;METRO RJ;FERNANDO CIRONE;7.90;Transport\n",
      "01/05/2025;UBER * PENDING;FERNANDO CIRONE;15.80;Transport\n",
      "01/05/2025;UBER * PENDING;FERNANDO CIRONE;43.31;Transport\n",
      "01/05/2025;BAR URCA;FERNANDO CIRONE;19.00;Leisure\n",
      "01/05/2025;UBER* PENDING;FERNANDO CIRONE;11.62;Transport\n",
      "01/05/2025;BAR URCA;FERNANDO CIRONE;38.00;Leisure\n",
      "02/05/2025;PB*SAMSUNG;FERNANDO CIRONE;29.90;Electronics\n",
      "02/05/2025;CAM ON BOTAFOGO;FERNANDO CIRONE;127.50;Food\n",
      "02/05/2025;BR*BR1FOODTOSAV;FERNANDO CIRONE;46.97;Food\n",
      "02/05/2025;DROGARIA CRISTAL;FERNANDO CIRONE;30.98;Health\n",
      "02/05/2025;UBER *TRIP HELP.UBER.COM;FERNANDO CIRONE;12.20;Transport\n",
      "03/05/2025;UBER* PENDING;FERNANDO CIRONE;30.76;Transport\n",
      "03/05/2025;SHOPEE *VITRINEMASTERR;FERNANDO CIRONE;19.99;Shopping\n",
      "03/05/2025;SHOPEE *TICKTACK;FERNANDO CIRONE;26.49;Shopping\n",
      "03/05/2025;SHOPEE *MUNDOMASTERATA;FERNANDO CIRONE;19.99;Shopping\n",
      "03/05/2025;SHOPEE *BORDADOSRODRIG;FERNANDO CIRONE;44.90;Shopping\n",
      "\n",
      "\n",
      " Processing block 2 (lines 21 to 40)...\n",
      "Sucess:\n",
      "\n",
      "Data;Estabelecimento;Portador;Valor;Categoria\n",
      "03/05/2025;DROGARIA CRISTAL;FERNANDO CIRONE;6.50;Health\n",
      "03/05/2025;UBER * PENDING;FERNANDO CIRONE;6.91;Transport\n",
      "04/05/2025;UBER * PENDING;FERNANDO CIRONE;18.25;Transport\n",
      "04/05/2025;DROGARIA CRISTAL;FERNANDO CIRONE;4.50;Health\n",
      "04/05/2025;METRO RJ;FERNANDO CIRONE;15.80;Transport\n",
      "05/05/2025;UBER* PENDING;FERNANDO CIRONE;9.12;Transport\n",
      "05/05/2025;PREZUNIC 743;FERNANDO CIRONE;45.86;Food\n",
      "06/02/2025;FOCUS CLINICA E CIRURG;FERNANDO CIRONE;100.00;Health\n",
      "06/05/2025;SHOPEE *GUEDESIMPORTST;FERNANDO CIRONE;38.90;Shopping\n",
      "06/05/2025;METRO RJ;FERNANDO CIRONE;7.90;Transport\n",
      "06/05/2025;UBER* PENDING;FERNANDO CIRONE;18.34;Transport\n",
      "06/05/2025;TRJMARKET4U MERCADO AU;FERNANDO CIRONE;2.98;Food\n",
      "08/04/2025;DL*GOOGLE BUMBLE;FERNANDO CIRONE;39.90;Leisure\n",
      "08/04/2025;UBER* PENDING;FERNANDO CIRONE;10.22;Transport\n",
      "08/04/2025;METRO RJ;FERNANDO CIRONE;15.00;Transport\n",
      "09/04/2025;UBER * PENDING;FERNANDO CIRONE;10.42;Transport\n",
      "09/04/2025;UBER * PENDING;FERNANDO CIRONE;11.82;Transport\n",
      "09/04/2025;METRO RJ;FERNANDO CIRONE;7.50;Transport\n",
      "10/04/2025;SUA ACADEMIA;FERNANDO CIRONE;129.90;Health\n",
      "10/04/2025;UBER* PENDING;FERNANDO CIRONE;11.95;Transport\n",
      "\n",
      "\n",
      " Processing block 3 (lines 41 to 59)...\n",
      "Sucess:\n",
      "\n",
      "Data;Estabelecimento;Portador;Valor;Categoria\n",
      "10/04/2025;METRO RJ FERNANDO CIRONE;FERNANDO CIRONE;15.00;Transport\n",
      "10/04/2025;CASAS PEDRO FERNANDO CIRONE;FERNANDO CIRONE;19.48;Home & Utilities\n",
      "11/04/2025;99 TECNOLOGIA*99* 99* FERNANDO CIRONE;FERNANDO CIRONE;7.30;Transport\n",
      "11/04/2025;METRO RJ FERNANDO CIRONE;FERNANDO CIRONE;7.50;Transport\n",
      "11/04/2025;PREZUNIC 742 FERNANDO CIRONE;FERNANDO CIRONE;29.98;Food\n",
      "11/04/2025;NETFLIX.COM FERNANDO CIRONE;FERNANDO CIRONE;20.90;Leisure\n",
      "11/04/2025;UBER* PENDING FERNANDO CIRONE;FERNANDO CIRONE;15.71;Transport\n",
      "11/04/2025;SUPERMERCADO GUAN FERNANDO CIRONE;FERNANDO CIRONE;440.22;Food\n",
      "11/04/2025;WINEBR*CLUBEWINE 52058951 FERNANDO CIRONE;FERNANDO CIRONE;39.37;Food\n",
      "12/04/2025;UBER* PENDING FERNANDO CIRONE;FERNANDO CIRONE;22.94;Transport\n",
      "12/04/2025;LIMALOGISTICA FERNANDO CIRONE;FERNANDO CIRONE;28.00;Services\n",
      "12/04/2025;MPLGESTAODE FERNANDO CIRONE;FERNANDO CIRONE;11.00;Services\n",
      "12/04/2025;BAR BOA VISTA FERNANDO CIRONE;FERNANDO CIRONE;43.30;Food\n",
      "12/04/2025;UBER * PENDING FERNANDO CIRONE;FERNANDO CIRONE;33.36;Transport\n",
      "12/04/2025;UBER* PENDING FERNANDO CIRONE;FERNANDO CIRONE;28.28;Transport\n",
      "12/04/2025;UBER* PENDING FERNANDO CIRONE;FERNANDO CIRONE;9.57;Transport\n",
      "12/04/2025;CACIMBA FERNANDO CIRONE;FERNANDO CIRONE;13.93;Food\n",
      "12/04/2025;UBER * PENDING FERNANDO CIRONE;FERNANDO CIRONE;26.60;Transport\n",
      "12/04/2025;LIMALOGISTICA FERNANDO CIRONE;FERNANDO CIRONE;22.00;Services\n",
      "\n"
     ]
    }
   ],
   "source": [
    "bloco_size = 20 #20 linhas!\n",
    "df_classificados = [] #df to salve in dataframe\n",
    "\n",
    "\n",
    "for i in range(0, len(df), bloco_size): # inicio, fim , passo\n",
    "    bloco_df = df.iloc[i:i + bloco_size] # i + i +20\n",
    "    bloco_txt = bloco_df.to_string(index=False)\n",
    "\n",
    "    prompt = f\"\"\"\n",
    "    You are a financial assistant specialized in classifying expenses.\n",
    "\n",
    "    Below is a list of expenses from Fernando Cirone's invoice:\n",
    "\n",
    "    {bloco_txt}\n",
    "\n",
    "    Classify each expense into categories such as Food, Transport, Leisure, Health, etc.\n",
    "    Return ONLY a valid CSV table using semicolon (;) as separator and dot (.) as decimal separator.\n",
    "    Use the same columns as provided — 'Data', 'Estabelecimento', 'Portador', 'Valor' — and add one column named 'Categoria'.\n",
    "\n",
    "    Do NOT include explanations, commentary or markdown formatting.\n",
    "    Start directly with the header line.\n",
    "\n",
    "    Example:\n",
    "    Data;Estabelecimento;Portador;Valor;Categoria\n",
    "\n",
    "    Answer in English, even though the table content is in Portuguese.\n",
    "    \"\"\"\n",
    "\n",
    "    print(f\"\\n Processing block {i // bloco_size + 1} (lines {i + 1} to {min(i + bloco_size, len(df))})...\")\n",
    "    resposta = tentar_enviar(prompt)\n",
    "\n",
    "    if resposta:\n",
    "        try:\n",
    "            # Tenta ler a resposta como CSV\n",
    "            print(\"Sucess:\\n\")\n",
    "            print(resposta)\n",
    "\n",
    "            df_resposta = pd.read_csv(StringIO(resposta), sep=\";\")\n",
    "            df_classificados.append(df_resposta)\n",
    "        except Exception as e:\n",
    "            print(f\"erro ao ler como CSV: {e}\")\n",
    "    else:\n",
    "        print(\"Bloco pulado por falhas consecutivas\")\n",
    "\n",
    "    time.sleep(5)"
   ]
  },
  {
   "cell_type": "code",
   "execution_count": 133,
   "id": "18ba874d",
   "metadata": {},
   "outputs": [
    {
     "data": {
      "text/html": [
       "<div>\n",
       "<style scoped>\n",
       "    .dataframe tbody tr th:only-of-type {\n",
       "        vertical-align: middle;\n",
       "    }\n",
       "\n",
       "    .dataframe tbody tr th {\n",
       "        vertical-align: top;\n",
       "    }\n",
       "\n",
       "    .dataframe thead th {\n",
       "        text-align: right;\n",
       "    }\n",
       "</style>\n",
       "<table border=\"1\" class=\"dataframe\">\n",
       "  <thead>\n",
       "    <tr style=\"text-align: right;\">\n",
       "      <th></th>\n",
       "      <th>Data</th>\n",
       "      <th>Estabelecimento</th>\n",
       "      <th>Portador</th>\n",
       "      <th>Valor</th>\n",
       "      <th>Categoria</th>\n",
       "    </tr>\n",
       "  </thead>\n",
       "  <tbody>\n",
       "    <tr>\n",
       "      <th>0</th>\n",
       "      <td>01/05/2025</td>\n",
       "      <td>MAE JOANA</td>\n",
       "      <td>FERNANDO CIRONE</td>\n",
       "      <td>64.35</td>\n",
       "      <td>Food</td>\n",
       "    </tr>\n",
       "    <tr>\n",
       "      <th>1</th>\n",
       "      <td>01/05/2025</td>\n",
       "      <td>KATIA ROCHA</td>\n",
       "      <td>FERNANDO CIRONE</td>\n",
       "      <td>10.00</td>\n",
       "      <td>Personal Care</td>\n",
       "    </tr>\n",
       "  </tbody>\n",
       "</table>\n",
       "</div>"
      ],
      "text/plain": [
       "         Data Estabelecimento         Portador  Valor      Categoria\n",
       "0  01/05/2025       MAE JOANA  FERNANDO CIRONE  64.35           Food\n",
       "1  01/05/2025     KATIA ROCHA  FERNANDO CIRONE  10.00  Personal Care"
      ]
     },
     "execution_count": 133,
     "metadata": {},
     "output_type": "execute_result"
    }
   ],
   "source": [
    "# Junta todos os blocos classificados\n",
    "df_final = pd.concat(df_classificados, ignore_index=True)\n",
    "df_final.head(2)"
   ]
  },
  {
   "cell_type": "code",
   "execution_count": 134,
   "id": "fd299f6a",
   "metadata": {},
   "outputs": [],
   "source": [
    "# # # Salva o DataFrame final com a coluna Categoria\n",
    "# df_final.to_csv('data/fatura_classificada.csv', index=False, sep=\";\")"
   ]
  }
 ],
 "metadata": {
  "kernelspec": {
   "display_name": "3.10.6",
   "language": "python",
   "name": "python3"
  },
  "language_info": {
   "codemirror_mode": {
    "name": "ipython",
    "version": 3
   },
   "file_extension": ".py",
   "mimetype": "text/x-python",
   "name": "python",
   "nbconvert_exporter": "python",
   "pygments_lexer": "ipython3",
   "version": "3.10.6"
  }
 },
 "nbformat": 4,
 "nbformat_minor": 5
}
